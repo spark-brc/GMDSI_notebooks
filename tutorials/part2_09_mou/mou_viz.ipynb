{
 "cells": [
  {
   "cell_type": "code",
   "execution_count": 1,
   "id": "9f59883e",
   "metadata": {},
   "outputs": [],
   "source": [
    "import pandas as pd\n",
    "import matplotlib.pyplot as plt\n",
    "from ipywidgets import interact\n",
    "import warnings\n",
    "warnings.filterwarnings(\"ignore\")\n",
    "warnings.filterwarnings(\"ignore\", category=DeprecationWarning) \n",
    "import pyemu\n"
   ]
  },
  {
   "cell_type": "markdown",
   "id": "bec79656-1281-4a9e-97c9-a024cba55288",
   "metadata": {},
   "source": [
    "# Multiple objective optimization visualization\n",
    "Running "
   ]
  },
  {
   "cell_type": "code",
   "execution_count": 2,
   "id": "38f7d3d1-1cc4-481e-a6b4-fb620b377251",
   "metadata": {},
   "outputs": [],
   "source": [
    "# read in the pareto archive summary\n",
    "df = pd.read_csv('./master_mou_1/freyberg_mf6.pareto.archive.summary.csv')"
   ]
  },
  {
   "cell_type": "code",
   "execution_count": 3,
   "id": "7403893d",
   "metadata": {},
   "outputs": [],
   "source": [
    "# rename the columns to simpler names for plotting\n",
    "df = df.loc[df.apply(lambda x: x.nsga2_front==1 and x.is_feasible==1,axis=1),:].rename(\n",
    "    columns = {'oname:cum_otype:lst_usecol:sfr_totim:4383.5':'streamflow_obj',\n",
    "            'oname:cum_otype:lst_usecol:wel_totim:4383.5':'pumping_obj'})"
   ]
  },
  {
   "cell_type": "code",
   "execution_count": 4,
   "id": "86692c0b",
   "metadata": {},
   "outputs": [],
   "source": [
    "def plot_pareto(currgen):\n",
    "    plt.figure()\n",
    "    plt.scatter(df.streamflow_obj, df.pumping_obj, c='.5', marker='.', alpha=.4)\n",
    "    currdf = df.loc[df.generation==currgen]\n",
    "    plt.scatter(currdf.streamflow_obj, currdf.pumping_obj, c='b', marker='.')\n",
    "    plt.title(f'Pareto Tradeoff for Generation {currgen}')\n",
    "    plt.xlabel('streamflow_obj')\n",
    "    plt.ylabel('pumping_obj')"
   ]
  },
  {
   "cell_type": "markdown",
   "id": "b8a94d55",
   "metadata": {},
   "source": []
  },
  {
   "cell_type": "code",
   "execution_count": 5,
   "id": "143c0627",
   "metadata": {},
   "outputs": [
    {
     "name": "stderr",
     "output_type": "stream",
     "text": [
      "/Users/mnfienen/miniforge3/envs/gmdsitut/lib/python3.11/site-packages/IPython/core/pylabtools.py:77: DeprecationWarning: backend2gui is deprecated since IPython 8.24, backends are managed in matplotlib and can be externally registered.\n",
      "/Users/mnfienen/miniforge3/envs/gmdsitut/lib/python3.11/site-packages/ipywidgets/widgets/interaction.py:43: DeprecationWarning: `ipykernel.pylab.backend_inline` is deprecated, directly use `matplotlib_inline.backend_inline`\n"
     ]
    },
    {
     "data": {
      "application/vnd.jupyter.widget-view+json": {
       "model_id": "bc49db3fec054bdc8320fcb4261e28d4",
       "version_major": 2,
       "version_minor": 0
      },
      "text/plain": [
       "interactive(children=(IntSlider(value=25, description='currgen', max=50), Output()), _dom_classes=('widget-int…"
      ]
     },
     "metadata": {},
     "output_type": "display_data"
    }
   ],
   "source": [
    "interact(plot_pareto,  currgen=(0,50,1));"
   ]
  },
  {
   "cell_type": "markdown",
   "id": "9c343190-b03b-45a0-a1a8-db3d30e84a54",
   "metadata": {},
   "source": [
    "## now considering risk"
   ]
  },
  {
   "cell_type": "code",
   "execution_count": null,
   "id": "dcc8343f-de6c-4b45-880d-dafd171b26ff",
   "metadata": {},
   "outputs": [],
   "source": [
    "dfr = pd.read_csv('./master_mou_2/freyberg_mf6.pareto.archive.summary.csv')"
   ]
  },
  {
   "cell_type": "code",
   "execution_count": null,
   "id": "cab64ea0-e365-4de8-bbb2-5b6c13d5c968",
   "metadata": {},
   "outputs": [],
   "source": [
    "dfr = dfr.loc[dfr.apply(lambda x: x.nsga2_front==1 and x.is_feasible==1,axis=1),:].rename(\n",
    "    columns = {'oname:cum_otype:lst_usecol:sfr_totim:4383.5':'streamflow_obj',\n",
    "               'oname:cum_otype:lst_usecol:wel_totim:4383.5':'pumping_obj'})"
   ]
  },
  {
   "cell_type": "code",
   "execution_count": null,
   "id": "fbed0d64-3f09-43c6-889a-a3980ce1c70d",
   "metadata": {},
   "outputs": [],
   "source": [
    "dfr.sample(5)"
   ]
  },
  {
   "cell_type": "code",
   "execution_count": null,
   "id": "030c072d-d70f-4dbd-9ab8-c03cdb1426ed",
   "metadata": {},
   "outputs": [],
   "source": [
    "def plot_pareto_risk(currgen):\n",
    "    fig, ax = plt.subplots(1,2, figsize=(9,5), sharex=True, sharey=True)\n",
    "    ax[0].scatter(df.streamflow_obj, df.pumping_obj, c='.5', marker='.', alpha=.4)\n",
    "    ax[1].scatter(dfr.streamflow_obj, dfr.pumping_obj, c='.5', marker='.', alpha=.4)\n",
    "    currdf = dfr.loc[dfr.generation==currgen]\n",
    "    sc = ax[1].scatter(currdf.streamflow_obj, currdf.pumping_obj, c=currdf._risk_, cmap='viridis', marker='.')\n",
    "    plt.colorbar(sc)\n",
    "    currdf = df.loc[df.generation==currgen]\n",
    "    ax[0].scatter(currdf.streamflow_obj, currdf.pumping_obj, c='b', marker='.')\n",
    "    plt.suptitle(f'Pareto Tradeoff for Generation {currgen}')\n",
    "    ax[0].set_title('No Risk')\n",
    "    ax[1].set_title('Considering Risk')\n",
    "    \n",
    "    \n",
    "    for cax in ax:\n",
    "        cax.set_xlabel('streamflow_obj')\n",
    "        cax.set_ylabel('pumping_obj')\n",
    "        cax.grid()"
   ]
  },
  {
   "cell_type": "code",
   "execution_count": null,
   "id": "ff7dc6cc-c3c5-4e9e-8b0f-4d5dbfc46ef4",
   "metadata": {},
   "outputs": [],
   "source": [
    "interact(plot_pareto_risk,  currgen=(0,50,1));"
   ]
  },
  {
   "cell_type": "code",
   "execution_count": null,
   "id": "491c8ab6-07ad-4efb-939b-5587a5add17e",
   "metadata": {},
   "outputs": [],
   "source": []
  }
 ],
 "metadata": {
  "kernelspec": {
   "display_name": "gmdsitut",
   "language": "python",
   "name": "python3"
  },
  "language_info": {
   "codemirror_mode": {
    "name": "ipython",
    "version": 3
   },
   "file_extension": ".py",
   "mimetype": "text/x-python",
   "name": "python",
   "nbconvert_exporter": "python",
   "pygments_lexer": "ipython3",
   "version": "3.11.9"
  }
 },
 "nbformat": 4,
 "nbformat_minor": 5
}
