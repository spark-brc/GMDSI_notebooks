{
 "cells": [
  {
   "cell_type": "markdown",
   "id": "c443324b-b8ba-45d3-b06e-b421b8664546",
   "metadata": {},
   "source": [
    "# Sneak-peak at `PstFrom` - a recipe\n",
    "\n",
    "### Recap\n",
    "In the last notebook, we learned that to unleash the model-independent power of PEST and PEST++ we need three vital ingredients.\n",
    "* **Template** files -- for interfacing with model **input** files\n",
    "* **Instruction** files -- for extracting simulated outputs from model **output** files\n",
    "* **PEST Control** file -- well, for controlling the whole thing\n",
    "\n",
    "We also learned that there is a bit of \"structure\" to these files!\n",
    "Constructing well formatted template and instruction files, for a few parameters, or simulated outputs, in a couple of files, may not be too much of a biggie. But when we move to high dimensions it can get a little... painful.\n",
    "\n",
    "### Help is at hand\n",
    "`PstFrom` is a helpful class and set of methods, within `pyemu` that can assist us with constructing these PEST ingredients for our models (sometimes we call this our **PEST interface**). This tutorial aims to give us a quick look at the main steps (methods) that we call upon when setting up a PEST interface with `PstFrom`.\n",
    "\n",
    "### Prerequisite\n",
    "Model input and output files can be expressed as nice ascii array- or list(table)-like files. There is support for adding your own pre- and post-processing methods to execute automatically in your forward model run (`add_py_function()`). \n",
    "\n",
    "### An interesting concept -- parameters as multipliers \n",
    "Parameter values can be setup as \"direct\", \"multiplier\" or \"addend\". This means the \"parameter value\" which PEST(++) sees can be (1) the same value the model sees, (2) a multiplier on the value in the existing/original model input file, or (3) a value which is added to the value in the existing/original model input file. This is very nifty and allows for some pretty advanced parameterization schemes by allowing mixtures of different types of parameters. In `PstFrom` the default is designed to setup parameters as multipliers. This lets us preserve the existing model inputs and treat them as the mean of the prior parameter distribution.\n",
    "\n",
    "<img src=\"./mult.png\" style=\"float: center\">"
   ]
  },
  {
   "cell_type": "markdown",
   "id": "7d5baac2-20ed-45a0-b20d-538736687b4b",
   "metadata": {},
   "source": [
    "______________\n",
    "## The `PstFrom` Basic Recipe\n",
    "\n",
    "### Ingredients\n",
    "____\n",
    "#### Main\n",
    "```\n",
    "0. python\n",
    "1. pyemu.utils.PstFrom()\n",
    "2. add_parameters() [PstFrom method]\n",
    "3. add_observations() [PstFrom method\n",
    "4. mod_sys_cmds [PstFrom method]\n",
    "5. build_pst() [PstFrom method]\n",
    "6. os_utils.run() [pyemu.os_utils method]\n",
    "```\n",
    "#### Supplementary\n",
    "```\n",
    "* add_py_function() [PstFrom method]\n",
    "* build_prior() [PstFrom method]\n",
    "* draw() [PstFrom method]\n",
    "* Pst.write() [pyemu.Pst method]\n",
    "```"
   ]
  },
  {
   "cell_type": "markdown",
   "id": "d293e2a6-77d4-4ec3-a5a5-ad12501f0da5",
   "metadata": {},
   "source": [
    "### Method\n",
    "_____\n",
    "#### 0. Import packages\n",
    "Import python packages as usual:\n",
    "```\n",
    "import pyemu\n",
    "```"
   ]
  },
  {
   "cell_type": "markdown",
   "id": "2eefc97b-bfe3-465c-b82a-ccd291a0040e",
   "metadata": {},
   "source": [
    "#### 1. Instantiate a PstFrom object:\n",
    "```\n",
    "pf = pyemu.utils.PstFrom(original_d, new_d)\n",
    "```\n",
    "In the simplest form, PstFrom just needs to know what directory your model files are in (`original_d`). And where you want your PEST interface to be housed (`new_d`). Note: this step will attempt to replace the content of `new_d` with the content of `original_d`; as a default, it will fail if `new_d` already exists (see `remove_existing` argument for different behavior).\n",
    "\n",
    "There are a few other options for a bit of fine tuning, see:\n",
    "```\n",
    "pyemu.utils.PstFrom?\n",
    "```"
   ]
  },
  {
   "cell_type": "markdown",
   "id": "42982006-cdc0-4b87-9a1a-16dc32911aad",
   "metadata": {},
   "source": [
    "#### 2. Add Parameters\n",
    "```\n",
    "pf.add_parameters(filename[s], par_type)\n",
    "```\n",
    "Again, in the simplest form, just need to pass the name of the file (`filename[s]`) that contains the model inputs that we want to parameterize and the type of parameter (`par_type`). `par_type` options are `\"constant\"`, `\"zone\"`, `\"pilotpoint\"` or `\"grid\"`. Some additional args are probably worth passing though. E.g. `lower_bound` and `upper_bound` can be used to define our anticipated minimum and maximum of the parameter values (Note: this is one of the access points for defining our prior parameter uncertainty).\n",
    "\n",
    "Use `index_cols` (and `use_cols`) arguments to work with list-like (tabular) input files.\n",
    "\n",
    "More options:\n",
    "```\n",
    "pyemu.utils.PstFrom.add_parameters?\n",
    "```"
   ]
  },
  {
   "cell_type": "markdown",
   "id": "81bee782-42b9-4a55-8f46-72e12c974888",
   "metadata": {},
   "source": [
    "#### 3. Add Observations\n",
    "```\n",
    "pf.add_observations(filename)\n",
    "```\n",
    "Bare minimum, just pass a (nicely formatted) model output filename.\n",
    "Note: Step 3. can come before Step 2.\n",
    "\n",
    "Use `index_cols` (and `use_cols`) arguments to work with list-like (tabular) output files.\n",
    "\n",
    "More options:\n",
    "```\n",
    "pf.add_observations?\n",
    "```"
   ]
  },
  {
   "cell_type": "markdown",
   "id": "da38e42c-08cc-49cb-9e0e-2db9fe34d732",
   "metadata": {},
   "source": [
    "#### 4. Add forward model run command\n",
    "```\n",
    "pf.mod_sys_cmds.append(command)\n",
    "```\n",
    "Just a list attribute of the `PstFrom` object -- we can just add our forward run command here (e.g. `mf6`), `pyemu` will deal with the rest."
   ]
  },
  {
   "cell_type": "markdown",
   "id": "858c5582-97e8-428f-9e93-9dbe03c9f4d9",
   "metadata": {},
   "source": [
    "#### 5. Finalize interface and build PEST Control File\n",
    "```\n",
    "pst = pf.build_pst()\n",
    "```\n",
    "Worth passing the `filename` argument, or it'll be interpreted from `original_d` and could get pretty long!"
   ]
  },
  {
   "cell_type": "markdown",
   "id": "a09a0ab7-8728-4944-bf56-45e345450282",
   "metadata": {},
   "source": [
    "#### 6. Run PEST(++)\n",
    "What!?! already?\n",
    "```\n",
    "pyemu.os_utils.run(run_cmd, cwd)\n",
    "```"
   ]
  },
  {
   "cell_type": "markdown",
   "id": "be9a3386-7adf-4340-a0eb-53dad82213a8",
   "metadata": {},
   "source": [
    "## A schematic look at this setup"
   ]
  },
  {
   "cell_type": "code",
   "execution_count": null,
   "id": "24cab634-eb0b-4eff-837c-eac6040d4498",
   "metadata": {},
   "outputs": [],
   "source": [
    "from IPython.display import Image, display\n",
    "display(Image(url='./pest_flow2.gif'))"
   ]
  },
  {
   "cell_type": "markdown",
   "id": "db15e40d-bba9-48b9-9665-494cc48e0a87",
   "metadata": {},
   "source": [
    "# #tenlinesofpython"
   ]
  },
  {
   "cell_type": "code",
   "execution_count": null,
   "id": "ae2ff72d-ab93-4c8f-936a-68b88bdfa336",
   "metadata": {},
   "outputs": [],
   "source": [
    "# 0. Import packages\n",
    "import os, sys, pyemu\n",
    "sys.path.insert(0,\"..\")\n",
    "import herebedragons as hbd\n",
    "\n",
    "# 1. Instantiate a PstFrom object:\n",
    "org_d = os.path.join('..', '..', 'models', 'monthly_model_files_1lyr_newstress')\n",
    "pf = pyemu.utils.PstFrom(org_d, 'template', remove_existing=True)\n",
    "   # ------- these lines don't count! haha! -------->\n",
    "hbd.prep_bins(\"template\")  # just a bit of admin\n",
    "pyemu.os_utils.run(\"mf6\", \"template\") # so we have up2date outputs\n",
    "   # <---------------------------------------------\n",
    "\n",
    "# 2. Add Parameters\n",
    "pf.add_parameters(\"freyberg6.npf_k_layer1.txt\", 'grid')\n",
    "\n",
    "# 3. Add Observations\n",
    "pf.add_observations(\"sfr.csv\", index_cols='time', use_cols='TAILWATER')\n",
    "\n",
    "# 4. Add forward model run command\n",
    "pf.mod_sys_cmds.append(\"mf6\")\n",
    "\n",
    "# 5. Finalize interface and build PEST Control File\n",
    "pst = pf.build_pst('eg.pst')\n",
    "\n",
    "# 6. Run PEST(++)\n",
    "pyemu.os_utils.run(\"pestpp-glm eg.pst\", \"template\")\n"
   ]
  },
  {
   "cell_type": "code",
   "execution_count": null,
   "id": "50f2e140-8866-40c9-83cb-1202a0c1f837",
   "metadata": {},
   "outputs": [],
   "source": []
  }
 ],
 "metadata": {
  "language_info": {
   "name": "python"
  }
 },
 "nbformat": 4,
 "nbformat_minor": 5
}
