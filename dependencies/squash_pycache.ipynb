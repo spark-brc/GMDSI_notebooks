{
 "cells": [
  {
   "cell_type": "code",
   "execution_count": 4,
   "id": "93c6ff80",
   "metadata": {},
   "outputs": [],
   "source": [
    "import os, shutil, glob"
   ]
  },
  {
   "cell_type": "code",
   "execution_count": 9,
   "id": "c6a9c4ac",
   "metadata": {},
   "outputs": [],
   "source": [
    "cdir = './flopy'"
   ]
  },
  {
   "cell_type": "code",
   "execution_count": 10,
   "id": "eb345cbb",
   "metadata": {},
   "outputs": [
    {
     "name": "stdout",
     "output_type": "stream",
     "text": [
      "./flopy/flopy/plot/mplstyle\n",
      "./flopy/flopy/mf6/data/dfn\n",
      "./flopy/flopy/mf6/modflow\n",
      "./flopy/flopy/mf6/coordinates\n",
      "./flopy/flopy/mf6/utils\n",
      "./flopy/flopy/mf6/data\n",
      "./flopy/flopy/pest\n",
      "./flopy/flopy/modflow\n",
      "./flopy/flopy/plot\n",
      "./flopy/flopy/utils\n",
      "./flopy/flopy/mf6\n",
      "./flopy/flopy/modpath\n",
      "./flopy/flopy/seawat\n",
      "./flopy/flopy/mfusg\n",
      "./flopy/flopy/discretization\n",
      "./flopy/flopy/export\n",
      "./flopy/flopy/modflowlgr\n",
      "./flopy/flopy/mt3d\n",
      "./flopy/flopy\n"
     ]
    }
   ],
   "source": [
    "for root, dirs, files in os.walk(cdir, topdown=False):\n",
    "    for name in dirs:\n",
    "        print(os.path.join(root, name))"
   ]
  },
  {
   "cell_type": "code",
   "execution_count": 11,
   "id": "23d748d7",
   "metadata": {},
   "outputs": [],
   "source": [
    "for root, dirs, files in os.walk(cdir, topdown=False):\n",
    "    for name in dirs:\n",
    "#        print(os.path.join(root, name))\n",
    "        if '__pycache__' in name:\n",
    "            shutil.rmtree(os.path.join(root,name))"
   ]
  },
  {
   "cell_type": "code",
   "execution_count": 12,
   "id": "c07c228f",
   "metadata": {},
   "outputs": [
    {
     "name": "stdout",
     "output_type": "stream",
     "text": [
      "./flopy/flopy/plot/mplstyle\n",
      "./flopy/flopy/mf6/data/dfn\n",
      "./flopy/flopy/mf6/modflow\n",
      "./flopy/flopy/mf6/coordinates\n",
      "./flopy/flopy/mf6/utils\n",
      "./flopy/flopy/mf6/data\n",
      "./flopy/flopy/pest\n",
      "./flopy/flopy/modflow\n",
      "./flopy/flopy/plot\n",
      "./flopy/flopy/utils\n",
      "./flopy/flopy/mf6\n",
      "./flopy/flopy/modpath\n",
      "./flopy/flopy/seawat\n",
      "./flopy/flopy/mfusg\n",
      "./flopy/flopy/discretization\n",
      "./flopy/flopy/export\n",
      "./flopy/flopy/modflowlgr\n",
      "./flopy/flopy/mt3d\n",
      "./flopy/flopy\n"
     ]
    }
   ],
   "source": [
    "for root, dirs, files in os.walk(cdir, topdown=False):\n",
    "    for name in dirs:\n",
    "        print(os.path.join(root, name))"
   ]
  },
  {
   "cell_type": "code",
   "execution_count": null,
   "id": "6d184c5b",
   "metadata": {},
   "outputs": [],
   "source": []
  },
  {
   "cell_type": "code",
   "execution_count": null,
   "id": "cfe2ff72-d203-43d4-a56c-8d50e772c3df",
   "metadata": {},
   "outputs": [],
   "source": []
  }
 ],
 "metadata": {
  "kernelspec": {
   "display_name": "Python 3 (ipykernel)",
   "language": "python",
   "name": "python3"
  },
  "language_info": {
   "codemirror_mode": {
    "name": "ipython",
    "version": 3
   },
   "file_extension": ".py",
   "mimetype": "text/x-python",
   "name": "python",
   "nbconvert_exporter": "python",
   "pygments_lexer": "ipython3",
   "version": "3.11.7"
  }
 },
 "nbformat": 4,
 "nbformat_minor": 5
}
